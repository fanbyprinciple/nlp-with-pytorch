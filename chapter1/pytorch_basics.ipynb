{
 "cells": [
  {
   "cell_type": "code",
   "execution_count": 77,
   "id": "boolean-joshua",
   "metadata": {},
   "outputs": [],
   "source": [
    "def describe(x):\n",
    "    print(\"Type: \", x.type())\n",
    "    print(\"Shape: \", x.shape)\n",
    "    print(\"Value: \", x)\n",
    "    return x"
   ]
  },
  {
   "cell_type": "code",
   "execution_count": 78,
   "id": "stunning-chambers",
   "metadata": {},
   "outputs": [
    {
     "name": "stdout",
     "output_type": "stream",
     "text": [
      "Type:  torch.FloatTensor\n",
      "Shape:  torch.Size([2, 3])\n",
      "Value:  tensor([[0.0000e+00, 0.0000e+00, 0.0000e+00],\n",
      "        [0.0000e+00, 0.0000e+00, 4.5914e-41]])\n",
      "tensor([[0.0000e+00, 0.0000e+00, 0.0000e+00],\n",
      "        [0.0000e+00, 0.0000e+00, 4.5914e-41]])\n"
     ]
    }
   ],
   "source": [
    "import torch\n",
    "\n",
    "print(describe(torch.Tensor(2,3)))"
   ]
  },
  {
   "cell_type": "code",
   "execution_count": 79,
   "id": "hidden-massage",
   "metadata": {},
   "outputs": [],
   "source": [
    "device = torch.device('cuda' if torch.cuda.is_available else 'gpu')"
   ]
  },
  {
   "cell_type": "code",
   "execution_count": 80,
   "id": "worthy-fishing",
   "metadata": {},
   "outputs": [],
   "source": [
    "try:\n",
    "    describe(device)\n",
    "except:\n",
    "    pass"
   ]
  },
  {
   "cell_type": "code",
   "execution_count": 81,
   "id": "collectible-thirty",
   "metadata": {},
   "outputs": [
    {
     "name": "stdout",
     "output_type": "stream",
     "text": [
      "Type:  torch.FloatTensor\n",
      "Shape:  torch.Size([2, 3])\n",
      "Value:  tensor([[0.6211, 0.2374, 0.2095],\n",
      "        [0.4909, 0.2320, 0.3597]])\n",
      "Type:  torch.FloatTensor\n",
      "Shape:  torch.Size([2, 3])\n",
      "Value:  tensor([[ 0.7392,  0.4670, -0.6319],\n",
      "        [ 0.3447, -1.6481, -0.7665]])\n"
     ]
    },
    {
     "data": {
      "text/plain": [
       "tensor([[ 0.7392,  0.4670, -0.6319],\n",
       "        [ 0.3447, -1.6481, -0.7665]])"
      ]
     },
     "execution_count": 81,
     "metadata": {},
     "output_type": "execute_result"
    }
   ],
   "source": [
    "describe(torch.rand(2, 3)) \n",
    "describe(torch.randn(2,3)) # normalised"
   ]
  },
  {
   "cell_type": "code",
   "execution_count": 82,
   "id": "novel-bullet",
   "metadata": {},
   "outputs": [
    {
     "name": "stdout",
     "output_type": "stream",
     "text": [
      "Type:  torch.FloatTensor\n",
      "Shape:  torch.Size([2, 3])\n",
      "Value:  tensor([[0., 0., 0.],\n",
      "        [0., 0., 0.]])\n"
     ]
    },
    {
     "data": {
      "text/plain": [
       "tensor([[0., 0., 0.],\n",
       "        [0., 0., 0.]])"
      ]
     },
     "execution_count": 82,
     "metadata": {},
     "output_type": "execute_result"
    }
   ],
   "source": [
    "describe(torch.zeros(2,3))"
   ]
  },
  {
   "cell_type": "code",
   "execution_count": 83,
   "id": "political-lounge",
   "metadata": {},
   "outputs": [
    {
     "name": "stdout",
     "output_type": "stream",
     "text": [
      "Type:  torch.FloatTensor\n",
      "Shape:  torch.Size([2, 3])\n",
      "Value:  tensor([[1., 1., 1.],\n",
      "        [1., 1., 1.]])\n"
     ]
    },
    {
     "data": {
      "text/plain": [
       "tensor([[1., 1., 1.],\n",
       "        [1., 1., 1.]])"
      ]
     },
     "execution_count": 83,
     "metadata": {},
     "output_type": "execute_result"
    }
   ],
   "source": [
    "describe(torch.ones(2,3))"
   ]
  },
  {
   "cell_type": "code",
   "execution_count": 84,
   "id": "arctic-definition",
   "metadata": {},
   "outputs": [
    {
     "name": "stdout",
     "output_type": "stream",
     "text": [
      "Type:  torch.FloatTensor\n",
      "Shape:  torch.Size([2, 3])\n",
      "Value:  tensor([[1., 1., 1.],\n",
      "        [1., 1., 1.]])\n",
      "Type:  torch.FloatTensor\n",
      "Shape:  torch.Size([2, 3])\n",
      "Value:  tensor([[5., 5., 5.],\n",
      "        [5., 5., 5.]])\n"
     ]
    },
    {
     "data": {
      "text/plain": [
       "tensor([[5., 5., 5.],\n",
       "        [5., 5., 5.]])"
      ]
     },
     "execution_count": 84,
     "metadata": {},
     "output_type": "execute_result"
    }
   ],
   "source": [
    "x = torch.ones(2,3)\n",
    "describe(x)\n",
    "\n",
    "describe(x.fill_(5))"
   ]
  },
  {
   "cell_type": "code",
   "execution_count": 85,
   "id": "surgical-midnight",
   "metadata": {},
   "outputs": [
    {
     "name": "stdout",
     "output_type": "stream",
     "text": [
      "Type:  torch.FloatTensor\n",
      "Shape:  torch.Size([2, 3])\n",
      "Value:  tensor([[1., 2., 3.],\n",
      "        [4., 5., 6.]])\n"
     ]
    },
    {
     "data": {
      "text/plain": [
       "tensor([[1., 2., 3.],\n",
       "        [4., 5., 6.]])"
      ]
     },
     "execution_count": 85,
     "metadata": {},
     "output_type": "execute_result"
    }
   ],
   "source": [
    "x = torch.Tensor([[1,2,3], [4,5,6]])\n",
    "\n",
    "describe(x)"
   ]
  },
  {
   "cell_type": "code",
   "execution_count": 86,
   "id": "inappropriate-accessory",
   "metadata": {},
   "outputs": [],
   "source": [
    "import numpy as np\n",
    "\n",
    "x = np.random.rand(2,3)\n",
    "\n",
    "try:\n",
    "    describe(x)\n",
    "except:\n",
    "    pass\n",
    "x = np.random.randn(2,3)\n",
    "\n",
    "try:\n",
    "    describe(x)\n",
    "except:\n",
    "    pass"
   ]
  },
  {
   "cell_type": "code",
   "execution_count": 87,
   "id": "roman-potato",
   "metadata": {},
   "outputs": [
    {
     "name": "stdout",
     "output_type": "stream",
     "text": [
      "Type:  torch.DoubleTensor\n",
      "Shape:  torch.Size([2, 3])\n",
      "Value:  tensor([[ 1.5270, -1.5129, -0.0383],\n",
      "        [ 0.8777,  0.0546,  1.1482]], dtype=torch.float64)\n"
     ]
    },
    {
     "data": {
      "text/plain": [
       "tensor([[ 1.5270, -1.5129, -0.0383],\n",
       "        [ 0.8777,  0.0546,  1.1482]], dtype=torch.float64)"
      ]
     },
     "execution_count": 87,
     "metadata": {},
     "output_type": "execute_result"
    }
   ],
   "source": [
    "x = torch.from_numpy(x)\n",
    "\n",
    "describe(x)"
   ]
  },
  {
   "cell_type": "code",
   "execution_count": 88,
   "id": "orange-boost",
   "metadata": {},
   "outputs": [
    {
     "name": "stdout",
     "output_type": "stream",
     "text": [
      "Type:  torch.LongTensor\n",
      "Shape:  torch.Size([2, 3])\n",
      "Value:  tensor([[ 1, -1,  0],\n",
      "        [ 0,  0,  1]])\n"
     ]
    },
    {
     "data": {
      "text/plain": [
       "tensor([[ 1, -1,  0],\n",
       "        [ 0,  0,  1]])"
      ]
     },
     "execution_count": 88,
     "metadata": {},
     "output_type": "execute_result"
    }
   ],
   "source": [
    "x = x.long()\n",
    "\n",
    "describe(x)"
   ]
  },
  {
   "cell_type": "code",
   "execution_count": 89,
   "id": "enhanced-advertising",
   "metadata": {},
   "outputs": [
    {
     "name": "stdout",
     "output_type": "stream",
     "text": [
      "Type:  torch.FloatTensor\n",
      "Shape:  torch.Size([2, 3])\n",
      "Value:  tensor([[ 1.0639, -2.3886,  0.5745],\n",
      "        [-0.6559,  0.2792,  0.3386]])\n"
     ]
    },
    {
     "data": {
      "text/plain": [
       "tensor([[ 1.0639, -2.3886,  0.5745],\n",
       "        [-0.6559,  0.2792,  0.3386]])"
      ]
     },
     "execution_count": 89,
     "metadata": {},
     "output_type": "execute_result"
    }
   ],
   "source": [
    "x = torch.FloatTensor(torch.randn(2,3))\n",
    "\n",
    "describe(x)"
   ]
  },
  {
   "cell_type": "markdown",
   "id": "realistic-humidity",
   "metadata": {},
   "source": [
    "Now lets look at some of the tensor operations."
   ]
  },
  {
   "cell_type": "code",
   "execution_count": 90,
   "id": "painted-smell",
   "metadata": {},
   "outputs": [
    {
     "name": "stdout",
     "output_type": "stream",
     "text": [
      "Type:  torch.FloatTensor\n",
      "Shape:  torch.Size([2, 3])\n",
      "Value:  tensor([[ 1.0639, -2.3886,  0.5745],\n",
      "        [-0.6559,  0.2792,  0.3386]])\n"
     ]
    },
    {
     "data": {
      "text/plain": [
       "tensor([[ 1.0639, -2.3886,  0.5745],\n",
       "        [-0.6559,  0.2792,  0.3386]])"
      ]
     },
     "execution_count": 90,
     "metadata": {},
     "output_type": "execute_result"
    }
   ],
   "source": [
    "torch.add(x,x)\n",
    "\n",
    "describe(x)"
   ]
  },
  {
   "cell_type": "code",
   "execution_count": 91,
   "id": "standing-extraction",
   "metadata": {},
   "outputs": [
    {
     "name": "stdout",
     "output_type": "stream",
     "text": [
      "Type:  torch.LongTensor\n",
      "Shape:  torch.Size([18])\n",
      "Value:  tensor([ 0,  1,  2,  3,  4,  5,  6,  7,  8,  9, 10, 11, 12, 13, 14, 15, 16, 17])\n",
      "Type:  torch.LongTensor\n",
      "Shape:  torch.Size([2, 3, 3])\n",
      "Value:  tensor([[[ 0,  1,  2],\n",
      "         [ 3,  4,  5],\n",
      "         [ 6,  7,  8]],\n",
      "\n",
      "        [[ 9, 10, 11],\n",
      "         [12, 13, 14],\n",
      "         [15, 16, 17]]])\n"
     ]
    },
    {
     "data": {
      "text/plain": [
       "tensor([[[ 0,  1,  2],\n",
       "         [ 3,  4,  5],\n",
       "         [ 6,  7,  8]],\n",
       "\n",
       "        [[ 9, 10, 11],\n",
       "         [12, 13, 14],\n",
       "         [15, 16, 17]]])"
      ]
     },
     "execution_count": 91,
     "metadata": {},
     "output_type": "execute_result"
    }
   ],
   "source": [
    "x = torch.arange(18)\n",
    "\n",
    "describe(x)\n",
    "\n",
    "x = x.view(2,3,3)\n",
    "\n",
    "describe(x)"
   ]
  },
  {
   "cell_type": "code",
   "execution_count": 92,
   "id": "coordinate-platform",
   "metadata": {},
   "outputs": [
    {
     "name": "stdout",
     "output_type": "stream",
     "text": [
      "Type:  torch.LongTensor\n",
      "Shape:  torch.Size([3, 3])\n",
      "Value:  tensor([[ 9, 11, 13],\n",
      "        [15, 17, 19],\n",
      "        [21, 23, 25]])\n"
     ]
    },
    {
     "data": {
      "text/plain": [
       "tensor([[ 9, 11, 13],\n",
       "        [15, 17, 19],\n",
       "        [21, 23, 25]])"
      ]
     },
     "execution_count": 92,
     "metadata": {},
     "output_type": "execute_result"
    }
   ],
   "source": [
    "describe(torch.sum(x, dim=0))"
   ]
  },
  {
   "cell_type": "code",
   "execution_count": 93,
   "id": "physical-impact",
   "metadata": {},
   "outputs": [
    {
     "name": "stdout",
     "output_type": "stream",
     "text": [
      "Type:  torch.LongTensor\n",
      "Shape:  torch.Size([2, 3])\n",
      "Value:  tensor([[ 3, 12, 21],\n",
      "        [30, 39, 48]])\n"
     ]
    },
    {
     "data": {
      "text/plain": [
       "tensor([[ 3, 12, 21],\n",
       "        [30, 39, 48]])"
      ]
     },
     "execution_count": 93,
     "metadata": {},
     "output_type": "execute_result"
    }
   ],
   "source": [
    "describe(torch.sum(x, dim=-1))"
   ]
  },
  {
   "cell_type": "code",
   "execution_count": 94,
   "id": "authentic-approval",
   "metadata": {},
   "outputs": [
    {
     "name": "stdout",
     "output_type": "stream",
     "text": [
      "Type:  torch.LongTensor\n",
      "Shape:  torch.Size([2, 3])\n",
      "Value:  tensor([[ 9, 12, 15],\n",
      "        [36, 39, 42]])\n"
     ]
    },
    {
     "data": {
      "text/plain": [
       "tensor([[ 9, 12, 15],\n",
       "        [36, 39, 42]])"
      ]
     },
     "execution_count": 94,
     "metadata": {},
     "output_type": "execute_result"
    }
   ],
   "source": [
    "describe(torch.sum(x, dim=1))"
   ]
  },
  {
   "cell_type": "code",
   "execution_count": 95,
   "id": "another-diesel",
   "metadata": {},
   "outputs": [
    {
     "name": "stdout",
     "output_type": "stream",
     "text": [
      "Type:  torch.LongTensor\n",
      "Shape:  torch.Size([2, 3])\n",
      "Value:  tensor([[ 3, 12, 21],\n",
      "        [30, 39, 48]])\n"
     ]
    },
    {
     "data": {
      "text/plain": [
       "tensor([[ 3, 12, 21],\n",
       "        [30, 39, 48]])"
      ]
     },
     "execution_count": 95,
     "metadata": {},
     "output_type": "execute_result"
    }
   ],
   "source": [
    "describe(torch.sum(x, dim=2))"
   ]
  },
  {
   "cell_type": "code",
   "execution_count": 96,
   "id": "exceptional-exercise",
   "metadata": {},
   "outputs": [
    {
     "name": "stdout",
     "output_type": "stream",
     "text": [
      "Type:  torch.LongTensor\n",
      "Shape:  torch.Size([2, 3])\n",
      "Value:  tensor([[ 9, 12, 15],\n",
      "        [36, 39, 42]])\n"
     ]
    },
    {
     "data": {
      "text/plain": [
       "tensor([[ 9, 12, 15],\n",
       "        [36, 39, 42]])"
      ]
     },
     "execution_count": 96,
     "metadata": {},
     "output_type": "execute_result"
    }
   ],
   "source": [
    "describe(torch.sum(x, dim=-2))"
   ]
  },
  {
   "cell_type": "code",
   "execution_count": 97,
   "id": "geological-lafayette",
   "metadata": {},
   "outputs": [
    {
     "name": "stdout",
     "output_type": "stream",
     "text": [
      "Type:  torch.LongTensor\n",
      "Shape:  torch.Size([3, 3])\n",
      "Value:  tensor([[ 9, 11, 13],\n",
      "        [15, 17, 19],\n",
      "        [21, 23, 25]])\n"
     ]
    },
    {
     "data": {
      "text/plain": [
       "tensor([[ 9, 11, 13],\n",
       "        [15, 17, 19],\n",
       "        [21, 23, 25]])"
      ]
     },
     "execution_count": 97,
     "metadata": {},
     "output_type": "execute_result"
    }
   ],
   "source": [
    "describe(torch.sum(x, dim=-3))"
   ]
  },
  {
   "cell_type": "code",
   "execution_count": 98,
   "id": "sophisticated-jones",
   "metadata": {},
   "outputs": [
    {
     "name": "stdout",
     "output_type": "stream",
     "text": [
      "Type:  torch.LongTensor\n",
      "Shape:  torch.Size([3, 2, 3])\n",
      "Value:  tensor([[[ 0,  1,  2],\n",
      "         [ 9, 10, 11]],\n",
      "\n",
      "        [[ 3,  4,  5],\n",
      "         [12, 13, 14]],\n",
      "\n",
      "        [[ 6,  7,  8],\n",
      "         [15, 16, 17]]])\n"
     ]
    },
    {
     "data": {
      "text/plain": [
       "tensor([[[ 0,  1,  2],\n",
       "         [ 9, 10, 11]],\n",
       "\n",
       "        [[ 3,  4,  5],\n",
       "         [12, 13, 14]],\n",
       "\n",
       "        [[ 6,  7,  8],\n",
       "         [15, 16, 17]]])"
      ]
     },
     "execution_count": 98,
     "metadata": {},
     "output_type": "execute_result"
    }
   ],
   "source": [
    "describe(torch.transpose(x,0,1))"
   ]
  },
  {
   "cell_type": "markdown",
   "id": "traditional-mystery",
   "metadata": {},
   "source": [
    "Indexing slicing and other functionalities."
   ]
  },
  {
   "cell_type": "code",
   "execution_count": 99,
   "id": "located-cambodia",
   "metadata": {},
   "outputs": [
    {
     "name": "stdout",
     "output_type": "stream",
     "text": [
      "Type:  torch.LongTensor\n",
      "Shape:  torch.Size([2, 3])\n",
      "Value:  tensor([[0, 1, 2],\n",
      "        [3, 4, 5]])\n"
     ]
    },
    {
     "data": {
      "text/plain": [
       "tensor([[0, 1, 2],\n",
       "        [3, 4, 5]])"
      ]
     },
     "execution_count": 99,
     "metadata": {},
     "output_type": "execute_result"
    }
   ],
   "source": [
    "x = torch.arange(6).view(2,3)\n",
    "\n",
    "describe(x)"
   ]
  },
  {
   "cell_type": "code",
   "execution_count": 100,
   "id": "dental-government",
   "metadata": {},
   "outputs": [
    {
     "name": "stdout",
     "output_type": "stream",
     "text": [
      "Type:  torch.LongTensor\n",
      "Shape:  torch.Size([1, 2])\n",
      "Value:  tensor([[0, 1]])\n"
     ]
    },
    {
     "data": {
      "text/plain": [
       "tensor([[0, 1]])"
      ]
     },
     "execution_count": 100,
     "metadata": {},
     "output_type": "execute_result"
    }
   ],
   "source": [
    "describe(x[:1, :2])"
   ]
  },
  {
   "cell_type": "code",
   "execution_count": 101,
   "id": "listed-occupation",
   "metadata": {},
   "outputs": [
    {
     "name": "stdout",
     "output_type": "stream",
     "text": [
      "Type:  torch.LongTensor\n",
      "Shape:  torch.Size([])\n",
      "Value:  tensor(1)\n"
     ]
    },
    {
     "data": {
      "text/plain": [
       "tensor(1)"
      ]
     },
     "execution_count": 101,
     "metadata": {},
     "output_type": "execute_result"
    }
   ],
   "source": [
    "describe(x[0,1])"
   ]
  },
  {
   "cell_type": "code",
   "execution_count": 102,
   "id": "noted-authentication",
   "metadata": {},
   "outputs": [
    {
     "name": "stdout",
     "output_type": "stream",
     "text": [
      "Type:  torch.LongTensor\n",
      "Shape:  torch.Size([2, 2])\n",
      "Value:  tensor([[0, 2],\n",
      "        [3, 5]])\n"
     ]
    },
    {
     "data": {
      "text/plain": [
       "tensor([[0, 2],\n",
       "        [3, 5]])"
      ]
     },
     "execution_count": 102,
     "metadata": {},
     "output_type": "execute_result"
    }
   ],
   "source": [
    "indices = torch.LongTensor([0,2])\n",
    "indices_non_tensor = [0,2]\n",
    "\n",
    "describe(x.index_select(dim=1, index=indices))"
   ]
  },
  {
   "cell_type": "code",
   "execution_count": 103,
   "id": "suffering-advocacy",
   "metadata": {},
   "outputs": [
    {
     "name": "stdout",
     "output_type": "stream",
     "text": [
      "Type:  torch.LongTensor\n",
      "Shape:  torch.Size([4, 3])\n",
      "Value:  tensor([[0, 1, 2],\n",
      "        [3, 4, 5],\n",
      "        [0, 1, 2],\n",
      "        [3, 4, 5]])\n"
     ]
    },
    {
     "data": {
      "text/plain": [
       "tensor([[0, 1, 2],\n",
       "        [3, 4, 5],\n",
       "        [0, 1, 2],\n",
       "        [3, 4, 5]])"
      ]
     },
     "execution_count": 103,
     "metadata": {},
     "output_type": "execute_result"
    }
   ],
   "source": [
    "describe(torch.cat([x,x],dim=0))"
   ]
  },
  {
   "cell_type": "code",
   "execution_count": 104,
   "id": "ahead-education",
   "metadata": {},
   "outputs": [
    {
     "name": "stdout",
     "output_type": "stream",
     "text": [
      "Type:  torch.LongTensor\n",
      "Shape:  torch.Size([2, 2])\n",
      "Value:  tensor([[ 5, 14],\n",
      "        [14, 50]])\n"
     ]
    },
    {
     "data": {
      "text/plain": [
       "tensor([[ 5, 14],\n",
       "        [14, 50]])"
      ]
     },
     "execution_count": 104,
     "metadata": {},
     "output_type": "execute_result"
    }
   ],
   "source": [
    "describe(torch.mm(x,x.transpose(0,1)))"
   ]
  },
  {
   "cell_type": "markdown",
   "id": "catholic-education",
   "metadata": {},
   "source": [
    "requires_grad functionality\n",
    "\n",
    "When we create a tensor with requires_grad = True we are requiring Pytorch to manage bookkeeping information that computes gradients. Then at the end of computations, a single scalar is used to compute a backward pass.\n",
    "\n",
    "The backward pass is initiated by using the backward() method on a tensor resulting from the\n",
    "evaluation of a loss function. The backward pass computes a gradient value for a tensor object that\n",
    "participated in the forward pass."
   ]
  },
  {
   "cell_type": "code",
   "execution_count": 105,
   "id": "independent-fountain",
   "metadata": {},
   "outputs": [
    {
     "name": "stdout",
     "output_type": "stream",
     "text": [
      "Type:  torch.FloatTensor\n",
      "Shape:  torch.Size([2, 2])\n",
      "Value:  tensor([[1., 1.],\n",
      "        [1., 1.]], requires_grad=True)\n"
     ]
    },
    {
     "data": {
      "text/plain": [
       "tensor([[1., 1.],\n",
       "        [1., 1.]], requires_grad=True)"
      ]
     },
     "execution_count": 105,
     "metadata": {},
     "output_type": "execute_result"
    }
   ],
   "source": [
    "x = torch.ones(2,2,requires_grad=True)\n",
    "describe(x)"
   ]
  },
  {
   "cell_type": "code",
   "execution_count": 106,
   "id": "proud-france",
   "metadata": {},
   "outputs": [
    {
     "name": "stdout",
     "output_type": "stream",
     "text": [
      "True\n"
     ]
    }
   ],
   "source": [
    "print(x.grad is None)"
   ]
  },
  {
   "cell_type": "code",
   "execution_count": 107,
   "id": "municipal-supplier",
   "metadata": {},
   "outputs": [
    {
     "name": "stdout",
     "output_type": "stream",
     "text": [
      "Type:  torch.FloatTensor\n",
      "Shape:  torch.Size([2, 2])\n",
      "Value:  tensor([[21., 21.],\n",
      "        [21., 21.]], grad_fn=<AddBackward0>)\n",
      "None\n"
     ]
    }
   ],
   "source": [
    "y = (x+2) * (x+5) +3\n",
    "describe(y)\n",
    "print(x.grad)"
   ]
  },
  {
   "cell_type": "code",
   "execution_count": 108,
   "id": "incorporate-election",
   "metadata": {},
   "outputs": [
    {
     "name": "stdout",
     "output_type": "stream",
     "text": [
      "grad can be implicitly created only for scalar outputs\n"
     ]
    }
   ],
   "source": [
    "try:\n",
    "    y.backward()\n",
    "    x.grad\n",
    "except Exception as e:\n",
    "    print(e)"
   ]
  },
  {
   "cell_type": "code",
   "execution_count": 109,
   "id": "warming-salem",
   "metadata": {},
   "outputs": [
    {
     "name": "stdout",
     "output_type": "stream",
     "text": [
      "Type:  torch.FloatTensor\n",
      "Shape:  torch.Size([])\n",
      "Value:  tensor(21., grad_fn=<MeanBackward0>)\n"
     ]
    },
    {
     "name": "stderr",
     "output_type": "stream",
     "text": [
      "<ipython-input-109-4236c0d2aa6b>:5: UserWarning: The .grad attribute of a Tensor that is not a leaf Tensor is being accessed. Its .grad attribute won't be populated during autograd.backward(). If you indeed want the gradient for a non-leaf Tensor, use .retain_grad() on the non-leaf Tensor. If you access the non-leaf Tensor by mistake, make sure you access the leaf Tensor instead. See github.com/pytorch/pytorch/pull/30531 for more information.\n",
      "  y.grad, x.grad # y is the non leaf tensor accessed\n"
     ]
    },
    {
     "data": {
      "text/plain": [
       "(None,\n",
       " tensor([[2.2500, 2.2500],\n",
       "         [2.2500, 2.2500]]))"
      ]
     },
     "execution_count": 109,
     "metadata": {},
     "output_type": "execute_result"
    }
   ],
   "source": [
    "z = y.mean()\n",
    "describe(z)\n",
    "z.backward()\n",
    "\n",
    "y.grad, x.grad # y is the non leaf tensor accessed"
   ]
  },
  {
   "cell_type": "markdown",
   "id": "attached-absorption",
   "metadata": {},
   "source": [
    "### Exercises"
   ]
  },
  {
   "cell_type": "code",
   "execution_count": 110,
   "id": "french-tobacco",
   "metadata": {},
   "outputs": [
    {
     "name": "stdout",
     "output_type": "stream",
     "text": [
      "Type:  torch.FloatTensor\n",
      "Shape:  torch.Size([2, 2])\n",
      "Value:  tensor([[ 0.1171, -0.4101],\n",
      "        [-1.1601, -2.0141]])\n"
     ]
    },
    {
     "data": {
      "text/plain": [
       "tensor([[ 0.1171, -0.4101],\n",
       "        [-1.1601, -2.0141]])"
      ]
     },
     "execution_count": 110,
     "metadata": {},
     "output_type": "execute_result"
    }
   ],
   "source": [
    "#1 \n",
    "\n",
    "x = torch.randn(2,2)\n",
    "describe(x)"
   ]
  },
  {
   "cell_type": "code",
   "execution_count": 111,
   "id": "sticky-award",
   "metadata": {},
   "outputs": [
    {
     "data": {
      "text/plain": [
       "tensor([[[ 0.1171, -0.4101],\n",
       "         [-1.1601, -2.0141]]])"
      ]
     },
     "execution_count": 111,
     "metadata": {},
     "output_type": "execute_result"
    }
   ],
   "source": [
    "x.unsqueeze(0)"
   ]
  },
  {
   "cell_type": "code",
   "execution_count": 112,
   "id": "creative-quantity",
   "metadata": {},
   "outputs": [
    {
     "data": {
      "text/plain": [
       "tensor([[ 0.1171, -0.4101],\n",
       "        [-1.1601, -2.0141]])"
      ]
     },
     "execution_count": 112,
     "metadata": {},
     "output_type": "execute_result"
    }
   ],
   "source": [
    "#2\n",
    "\n",
    "x.squeeze(0)"
   ]
  },
  {
   "cell_type": "code",
   "execution_count": 113,
   "id": "million-admission",
   "metadata": {},
   "outputs": [
    {
     "name": "stdout",
     "output_type": "stream",
     "text": [
      "Type:  torch.FloatTensor\n",
      "Shape:  torch.Size([5, 3])\n",
      "Value:  tensor([[0.6269, 0.0194, 0.8534],\n",
      "        [0.7882, 0.6579, 0.1048],\n",
      "        [0.2572, 0.5618, 0.9316],\n",
      "        [0.6288, 0.6053, 0.3708],\n",
      "        [0.1356, 0.2003, 0.5736]])\n"
     ]
    },
    {
     "data": {
      "text/plain": [
       "tensor([[0.6269, 0.0194, 0.8534],\n",
       "        [0.7882, 0.6579, 0.1048],\n",
       "        [0.2572, 0.5618, 0.9316],\n",
       "        [0.6288, 0.6053, 0.3708],\n",
       "        [0.1356, 0.2003, 0.5736]])"
      ]
     },
     "execution_count": 113,
     "metadata": {},
     "output_type": "execute_result"
    }
   ],
   "source": [
    "#3\n",
    "x = torch.rand(5,3)\n",
    "describe(x)"
   ]
  },
  {
   "cell_type": "code",
   "execution_count": 114,
   "id": "qualified-briefing",
   "metadata": {},
   "outputs": [
    {
     "data": {
      "text/plain": [
       "tensor([[3.6269, 3.0194, 3.8534],\n",
       "        [3.7882, 3.6579, 3.1048],\n",
       "        [3.2572, 3.5618, 3.9316],\n",
       "        [3.6288, 3.6053, 3.3708],\n",
       "        [3.1356, 3.2003, 3.5736]])"
      ]
     },
     "execution_count": 114,
     "metadata": {},
     "output_type": "execute_result"
    }
   ],
   "source": [
    "3 + x"
   ]
  },
  {
   "cell_type": "code",
   "execution_count": 115,
   "id": "opening-appraisal",
   "metadata": {},
   "outputs": [
    {
     "data": {
      "text/plain": [
       "tensor([[5.5078, 3.0776, 6.4137],\n",
       "        [6.1526, 5.6315, 3.4191],\n",
       "        [4.0287, 5.2471, 6.7265],\n",
       "        [5.5153, 5.4213, 4.4831],\n",
       "        [3.5425, 3.8010, 5.2942]])"
      ]
     },
     "execution_count": 115,
     "metadata": {},
     "output_type": "execute_result"
    }
   ],
   "source": [
    "3 + x * (7-3)"
   ]
  },
  {
   "cell_type": "code",
   "execution_count": 116,
   "id": "nervous-motorcycle",
   "metadata": {},
   "outputs": [
    {
     "name": "stdout",
     "output_type": "stream",
     "text": [
      "Type:  torch.FloatTensor\n",
      "Shape:  torch.Size([2, 2])\n",
      "Value:  tensor([[ 0.5780, -0.6812],\n",
      "        [ 0.8201,  0.2657]])\n"
     ]
    },
    {
     "data": {
      "text/plain": [
       "tensor([[-0.6136,  0.2862],\n",
       "        [ 0.4747,  0.2210]])"
      ]
     },
     "execution_count": 116,
     "metadata": {},
     "output_type": "execute_result"
    }
   ],
   "source": [
    "#4\n",
    "\n",
    "x = torch.randn(2,2)\n",
    "describe(x)\n",
    "\n",
    "x.normal_()"
   ]
  },
  {
   "cell_type": "code",
   "execution_count": 117,
   "id": "impossible-crash",
   "metadata": {},
   "outputs": [
    {
     "data": {
      "text/plain": [
       "[tensor(True), tensor(True), tensor(True), tensor(False), tensor(True)]"
      ]
     },
     "execution_count": 117,
     "metadata": {},
     "output_type": "execute_result"
    }
   ],
   "source": [
    "a = torch.Tensor([1,1,1,0,1])\n",
    "\n",
    "y = [x!=0 for x in a]\n",
    "y"
   ]
  },
  {
   "cell_type": "code",
   "execution_count": 118,
   "id": "opposed-fundamental",
   "metadata": {},
   "outputs": [
    {
     "name": "stdout",
     "output_type": "stream",
     "text": [
      "0\n",
      "1\n",
      "2\n",
      "4\n"
     ]
    }
   ],
   "source": [
    "for i in range(len(y)):\n",
    "    if (y[i]==True):\n",
    "        print(i)"
   ]
  },
  {
   "cell_type": "code",
   "execution_count": 119,
   "id": "numeric-michigan",
   "metadata": {},
   "outputs": [
    {
     "data": {
      "text/plain": [
       "tensor([[0],\n",
       "        [1],\n",
       "        [2],\n",
       "        [4]])"
      ]
     },
     "execution_count": 119,
     "metadata": {},
     "output_type": "execute_result"
    }
   ],
   "source": [
    "torch.nonzero(a)"
   ]
  },
  {
   "cell_type": "code",
   "execution_count": 120,
   "id": "current-hunger",
   "metadata": {},
   "outputs": [
    {
     "name": "stdout",
     "output_type": "stream",
     "text": [
      "Type:  torch.FloatTensor\n",
      "Shape:  torch.Size([3, 1])\n",
      "Value:  tensor([[0.5471],\n",
      "        [0.1677],\n",
      "        [0.5827]])\n"
     ]
    },
    {
     "data": {
      "text/plain": [
       "tensor([[0.5471, 0.5471, 0.5471, 0.5471],\n",
       "        [0.1677, 0.1677, 0.1677, 0.1677],\n",
       "        [0.5827, 0.5827, 0.5827, 0.5827]])"
      ]
     },
     "execution_count": 120,
     "metadata": {},
     "output_type": "execute_result"
    }
   ],
   "source": [
    "#6\n",
    "\n",
    "x = torch.rand(3,1)\n",
    "describe(x)\n",
    "x.expand(3,4)"
   ]
  },
  {
   "cell_type": "code",
   "execution_count": 121,
   "id": "killing-christian",
   "metadata": {},
   "outputs": [],
   "source": [
    "#7\n",
    "\n",
    "a = torch.rand(3,4,5)\n",
    "b = torch.rand(3,5,4)"
   ]
  },
  {
   "cell_type": "code",
   "execution_count": 122,
   "id": "unlikely-sacrifice",
   "metadata": {},
   "outputs": [
    {
     "data": {
      "text/plain": [
       "tensor([[[1.0485, 1.9395, 1.7866, 1.8221],\n",
       "         [0.4185, 0.8353, 0.7905, 0.9803],\n",
       "         [1.0286, 1.8795, 1.7339, 1.4548],\n",
       "         [0.9295, 1.6154, 1.4097, 1.4657]],\n",
       "\n",
       "        [[1.2085, 0.4274, 0.7451, 0.8226],\n",
       "         [1.0946, 0.6938, 0.9085, 0.9036],\n",
       "         [0.7303, 0.6341, 0.8205, 0.5076],\n",
       "         [1.6149, 0.6392, 0.9074, 0.9273]],\n",
       "\n",
       "        [[1.5482, 1.7966, 0.6073, 0.8295],\n",
       "         [1.6087, 1.7916, 0.3827, 1.0784],\n",
       "         [1.7385, 2.3849, 0.8807, 1.2061],\n",
       "         [0.8166, 1.5187, 0.3449, 0.5478]]])"
      ]
     },
     "execution_count": 122,
     "metadata": {},
     "output_type": "execute_result"
    }
   ],
   "source": [
    "torch.bmm(a,b)"
   ]
  },
  {
   "cell_type": "code",
   "execution_count": 123,
   "id": "russian-underground",
   "metadata": {},
   "outputs": [],
   "source": [
    "try:\n",
    "    a*b\n",
    "except:\n",
    "    pass"
   ]
  },
  {
   "cell_type": "code",
   "execution_count": 124,
   "id": "smooth-country",
   "metadata": {},
   "outputs": [
    {
     "data": {
      "text/plain": [
       "tensor([[[1.7233, 2.3406, 1.4742, 2.5645],\n",
       "         [1.2071, 1.2486, 0.6893, 1.3125],\n",
       "         [1.8799, 2.5713, 1.5047, 2.4538],\n",
       "         [1.0478, 1.2316, 0.6970, 1.3562]],\n",
       "\n",
       "        [[1.2163, 1.7533, 1.1250, 1.6813],\n",
       "         [2.2966, 2.1826, 1.3385, 2.7077],\n",
       "         [1.6110, 2.3529, 1.3342, 2.1600],\n",
       "         [1.6843, 1.5703, 1.0627, 2.1625]],\n",
       "\n",
       "        [[0.6027, 1.0543, 0.6337, 1.1010],\n",
       "         [1.8433, 2.1209, 1.2628, 2.3658],\n",
       "         [0.3552, 0.4023, 0.2194, 0.3853],\n",
       "         [1.7824, 1.6512, 1.0508, 2.0512]]])"
      ]
     },
     "execution_count": 124,
     "metadata": {},
     "output_type": "execute_result"
    }
   ],
   "source": [
    "#8\n",
    "\n",
    "a = torch.rand(3,4,5)\n",
    "b = torch.rand(5,4)\n",
    "\n",
    "torch.bmm(a, b.unsqueeze(0).expand(a.size(0), *b.size()))"
   ]
  },
  {
   "cell_type": "code",
   "execution_count": 126,
   "id": "american-sucking",
   "metadata": {},
   "outputs": [],
   "source": [
    "# new commands\n",
    "\n",
    "#unsqueeze, expand, bmm "
   ]
  }
 ],
 "metadata": {
  "kernelspec": {
   "display_name": "Python 3",
   "language": "python",
   "name": "python3"
  },
  "language_info": {
   "codemirror_mode": {
    "name": "ipython",
    "version": 3
   },
   "file_extension": ".py",
   "mimetype": "text/x-python",
   "name": "python",
   "nbconvert_exporter": "python",
   "pygments_lexer": "ipython3",
   "version": "3.9.5"
  }
 },
 "nbformat": 4,
 "nbformat_minor": 5
}
