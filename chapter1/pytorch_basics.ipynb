{
 "cells": [
  {
   "cell_type": "code",
   "execution_count": 28,
   "id": "ambient-while",
   "metadata": {},
   "outputs": [],
   "source": [
    "def describe(x):\n",
    "    print(\"Type: \", x.type())\n",
    "    print(\"Shape: \", x.shape)\n",
    "    print(\"Value: \", x)\n",
    "    return x"
   ]
  },
  {
   "cell_type": "code",
   "execution_count": 5,
   "id": "caring-consistency",
   "metadata": {},
   "outputs": [
    {
     "name": "stdout",
     "output_type": "stream",
     "text": [
      "Type:  <class 'torch.Tensor'>\n",
      "Shape:  torch.Size([2, 3])\n",
      "Value:  tensor([[9.1837e-39, 8.4490e-39, 1.0102e-38],\n",
      "        [1.0561e-38, 1.0010e-38, 9.2756e-39]])\n",
      "(<class 'torch.Tensor'>, torch.Size([2, 3]), tensor([[9.1837e-39, 8.4490e-39, 1.0102e-38],\n",
      "        [1.0561e-38, 1.0010e-38, 9.2756e-39]]))\n"
     ]
    }
   ],
   "source": [
    "import torch\n",
    "\n",
    "print(describe(torch.Tensor(2,3)))"
   ]
  },
  {
   "cell_type": "code",
   "execution_count": 6,
   "id": "worst-dynamics",
   "metadata": {},
   "outputs": [],
   "source": [
    "device = torch.device('cuda' if torch.cuda.is_available else 'gpu')"
   ]
  },
  {
   "cell_type": "code",
   "execution_count": 24,
   "id": "false-cartoon",
   "metadata": {},
   "outputs": [
    {
     "name": "stdout",
     "output_type": "stream",
     "text": [
      "Type:  <class 'torch.device'>\n"
     ]
    }
   ],
   "source": [
    "try:\n",
    "    describe(device)\n",
    "except:\n",
    "    pass"
   ]
  },
  {
   "cell_type": "code",
   "execution_count": 8,
   "id": "sound-funeral",
   "metadata": {},
   "outputs": [
    {
     "name": "stdout",
     "output_type": "stream",
     "text": [
      "Type:  <class 'torch.Tensor'>\n",
      "Shape:  torch.Size([2, 3])\n",
      "Value:  tensor([[0.3953, 0.8311, 0.9215],\n",
      "        [0.1242, 0.3636, 0.9194]])\n",
      "Type:  <class 'torch.Tensor'>\n",
      "Shape:  torch.Size([2, 3])\n",
      "Value:  tensor([[-0.1247, -0.1133,  0.6944],\n",
      "        [ 0.2207, -0.3254,  1.0822]])\n"
     ]
    },
    {
     "data": {
      "text/plain": [
       "(torch.Tensor,\n",
       " torch.Size([2, 3]),\n",
       " tensor([[-0.1247, -0.1133,  0.6944],\n",
       "         [ 0.2207, -0.3254,  1.0822]]))"
      ]
     },
     "execution_count": 8,
     "metadata": {},
     "output_type": "execute_result"
    }
   ],
   "source": [
    "describe(torch.rand(2, 3)) \n",
    "describe(torch.randn(2,3)) # normalised"
   ]
  },
  {
   "cell_type": "code",
   "execution_count": 9,
   "id": "cheap-flavor",
   "metadata": {},
   "outputs": [
    {
     "name": "stdout",
     "output_type": "stream",
     "text": [
      "Type:  <class 'torch.Tensor'>\n",
      "Shape:  torch.Size([2, 3])\n",
      "Value:  tensor([[0., 0., 0.],\n",
      "        [0., 0., 0.]])\n"
     ]
    },
    {
     "data": {
      "text/plain": [
       "(torch.Tensor,\n",
       " torch.Size([2, 3]),\n",
       " tensor([[0., 0., 0.],\n",
       "         [0., 0., 0.]]))"
      ]
     },
     "execution_count": 9,
     "metadata": {},
     "output_type": "execute_result"
    }
   ],
   "source": [
    "describe(torch.zeros(2,3))"
   ]
  },
  {
   "cell_type": "code",
   "execution_count": 10,
   "id": "knowing-genesis",
   "metadata": {},
   "outputs": [
    {
     "name": "stdout",
     "output_type": "stream",
     "text": [
      "Type:  <class 'torch.Tensor'>\n",
      "Shape:  torch.Size([2, 3])\n",
      "Value:  tensor([[1., 1., 1.],\n",
      "        [1., 1., 1.]])\n"
     ]
    },
    {
     "data": {
      "text/plain": [
       "(torch.Tensor,\n",
       " torch.Size([2, 3]),\n",
       " tensor([[1., 1., 1.],\n",
       "         [1., 1., 1.]]))"
      ]
     },
     "execution_count": 10,
     "metadata": {},
     "output_type": "execute_result"
    }
   ],
   "source": [
    "describe(torch.ones(2,3))"
   ]
  },
  {
   "cell_type": "code",
   "execution_count": 13,
   "id": "wired-nerve",
   "metadata": {},
   "outputs": [
    {
     "name": "stdout",
     "output_type": "stream",
     "text": [
      "Type:  <class 'torch.Tensor'>\n",
      "Shape:  torch.Size([2, 3])\n",
      "Value:  tensor([[1., 1., 1.],\n",
      "        [1., 1., 1.]])\n",
      "Type:  <class 'torch.Tensor'>\n",
      "Shape:  torch.Size([2, 3])\n",
      "Value:  tensor([[5., 5., 5.],\n",
      "        [5., 5., 5.]])\n"
     ]
    },
    {
     "data": {
      "text/plain": [
       "tensor([[5., 5., 5.],\n",
       "        [5., 5., 5.]])"
      ]
     },
     "execution_count": 13,
     "metadata": {},
     "output_type": "execute_result"
    }
   ],
   "source": [
    "x = torch.ones(2,3)\n",
    "describe(x)\n",
    "\n",
    "describe(x.fill_(5))"
   ]
  },
  {
   "cell_type": "code",
   "execution_count": 16,
   "id": "initial-cigarette",
   "metadata": {},
   "outputs": [
    {
     "name": "stdout",
     "output_type": "stream",
     "text": [
      "Type:  <class 'torch.Tensor'>\n",
      "Shape:  torch.Size([2, 3])\n",
      "Value:  tensor([[1., 2., 3.],\n",
      "        [4., 5., 6.]])\n"
     ]
    },
    {
     "data": {
      "text/plain": [
       "tensor([[1., 2., 3.],\n",
       "        [4., 5., 6.]])"
      ]
     },
     "execution_count": 16,
     "metadata": {},
     "output_type": "execute_result"
    }
   ],
   "source": [
    "x = torch.Tensor([[1,2,3], [4,5,6]])\n",
    "\n",
    "describe(x)"
   ]
  },
  {
   "cell_type": "code",
   "execution_count": 21,
   "id": "several-gates",
   "metadata": {},
   "outputs": [
    {
     "name": "stdout",
     "output_type": "stream",
     "text": [
      "Type:  <class 'numpy.ndarray'>\n",
      "Shape:  (2, 3)\n",
      "Value:  [[0.29928039 0.13125998 0.34292078]\n",
      " [0.40052394 0.12556718 0.25874984]]\n",
      "Type:  <class 'numpy.ndarray'>\n",
      "Shape:  (2, 3)\n",
      "Value:  [[-1.54155841 -0.4455095   1.15503083]\n",
      " [ 0.96122963 -0.45365868 -1.94354082]]\n"
     ]
    },
    {
     "data": {
      "text/plain": [
       "array([[-1.54155841, -0.4455095 ,  1.15503083],\n",
       "       [ 0.96122963, -0.45365868, -1.94354082]])"
      ]
     },
     "execution_count": 21,
     "metadata": {},
     "output_type": "execute_result"
    }
   ],
   "source": [
    "import numpy as np\n",
    "\n",
    "x = np.random.rand(2,3)\n",
    "\n",
    "describe(x)\n",
    "\n",
    "x = np.random.randn(2,3)\n",
    "\n",
    "describe(x)"
   ]
  },
  {
   "cell_type": "code",
   "execution_count": 22,
   "id": "random-sister",
   "metadata": {},
   "outputs": [
    {
     "name": "stdout",
     "output_type": "stream",
     "text": [
      "Type:  <class 'torch.Tensor'>\n",
      "Shape:  torch.Size([2, 3])\n",
      "Value:  tensor([[-1.5416, -0.4455,  1.1550],\n",
      "        [ 0.9612, -0.4537, -1.9435]], dtype=torch.float64)\n"
     ]
    },
    {
     "data": {
      "text/plain": [
       "tensor([[-1.5416, -0.4455,  1.1550],\n",
       "        [ 0.9612, -0.4537, -1.9435]], dtype=torch.float64)"
      ]
     },
     "execution_count": 22,
     "metadata": {},
     "output_type": "execute_result"
    }
   ],
   "source": [
    "x = torch.from_numpy(x)\n",
    "\n",
    "describe(x)"
   ]
  },
  {
   "cell_type": "code",
   "execution_count": 25,
   "id": "sacred-nowhere",
   "metadata": {},
   "outputs": [
    {
     "name": "stdout",
     "output_type": "stream",
     "text": [
      "Type:  <class 'torch.Tensor'>\n",
      "Shape:  torch.Size([2, 3])\n",
      "Value:  tensor([[-1,  0,  1],\n",
      "        [ 0,  0, -1]])\n"
     ]
    },
    {
     "data": {
      "text/plain": [
       "tensor([[-1,  0,  1],\n",
       "        [ 0,  0, -1]])"
      ]
     },
     "execution_count": 25,
     "metadata": {},
     "output_type": "execute_result"
    }
   ],
   "source": [
    "x = x.long()\n",
    "\n",
    "describe(x)"
   ]
  },
  {
   "cell_type": "code",
   "execution_count": 29,
   "id": "massive-tomato",
   "metadata": {},
   "outputs": [
    {
     "name": "stdout",
     "output_type": "stream",
     "text": [
      "Type:  torch.FloatTensor\n",
      "Shape:  torch.Size([2, 3])\n",
      "Value:  tensor([[-0.2889,  1.8275, -0.3408],\n",
      "        [-0.3970,  0.3792,  0.3986]])\n"
     ]
    },
    {
     "data": {
      "text/plain": [
       "tensor([[-0.2889,  1.8275, -0.3408],\n",
       "        [-0.3970,  0.3792,  0.3986]])"
      ]
     },
     "execution_count": 29,
     "metadata": {},
     "output_type": "execute_result"
    }
   ],
   "source": [
    "x = torch.FloatTensor(torch.randn(2,3))\n",
    "\n",
    "describe(x)"
   ]
  },
  {
   "cell_type": "markdown",
   "id": "major-pottery",
   "metadata": {},
   "source": [
    "Now lets look at some of the tensor operations."
   ]
  },
  {
   "cell_type": "code",
   "execution_count": 30,
   "id": "paperback-celebrity",
   "metadata": {},
   "outputs": [
    {
     "name": "stdout",
     "output_type": "stream",
     "text": [
      "Type:  torch.FloatTensor\n",
      "Shape:  torch.Size([2, 3])\n",
      "Value:  tensor([[-0.2889,  1.8275, -0.3408],\n",
      "        [-0.3970,  0.3792,  0.3986]])\n"
     ]
    },
    {
     "data": {
      "text/plain": [
       "tensor([[-0.2889,  1.8275, -0.3408],\n",
       "        [-0.3970,  0.3792,  0.3986]])"
      ]
     },
     "execution_count": 30,
     "metadata": {},
     "output_type": "execute_result"
    }
   ],
   "source": [
    "torch.add(x,x)\n",
    "\n",
    "describe(x)"
   ]
  },
  {
   "cell_type": "code",
   "execution_count": 38,
   "id": "known-wilson",
   "metadata": {},
   "outputs": [
    {
     "name": "stdout",
     "output_type": "stream",
     "text": [
      "Type:  torch.LongTensor\n",
      "Shape:  torch.Size([18])\n",
      "Value:  tensor([ 0,  1,  2,  3,  4,  5,  6,  7,  8,  9, 10, 11, 12, 13, 14, 15, 16, 17])\n",
      "Type:  torch.LongTensor\n",
      "Shape:  torch.Size([2, 3, 3])\n",
      "Value:  tensor([[[ 0,  1,  2],\n",
      "         [ 3,  4,  5],\n",
      "         [ 6,  7,  8]],\n",
      "\n",
      "        [[ 9, 10, 11],\n",
      "         [12, 13, 14],\n",
      "         [15, 16, 17]]])\n"
     ]
    },
    {
     "data": {
      "text/plain": [
       "tensor([[[ 0,  1,  2],\n",
       "         [ 3,  4,  5],\n",
       "         [ 6,  7,  8]],\n",
       "\n",
       "        [[ 9, 10, 11],\n",
       "         [12, 13, 14],\n",
       "         [15, 16, 17]]])"
      ]
     },
     "execution_count": 38,
     "metadata": {},
     "output_type": "execute_result"
    }
   ],
   "source": [
    "x = torch.arange(18)\n",
    "\n",
    "describe(x)\n",
    "\n",
    "x = x.view(2,3,3)\n",
    "\n",
    "describe(x)"
   ]
  },
  {
   "cell_type": "code",
   "execution_count": 39,
   "id": "analyzed-alloy",
   "metadata": {},
   "outputs": [
    {
     "name": "stdout",
     "output_type": "stream",
     "text": [
      "Type:  torch.LongTensor\n",
      "Shape:  torch.Size([3, 3])\n",
      "Value:  tensor([[ 9, 11, 13],\n",
      "        [15, 17, 19],\n",
      "        [21, 23, 25]])\n"
     ]
    },
    {
     "data": {
      "text/plain": [
       "tensor([[ 9, 11, 13],\n",
       "        [15, 17, 19],\n",
       "        [21, 23, 25]])"
      ]
     },
     "execution_count": 39,
     "metadata": {},
     "output_type": "execute_result"
    }
   ],
   "source": [
    "describe(torch.sum(x, dim=0))"
   ]
  },
  {
   "cell_type": "code",
   "execution_count": 40,
   "id": "complete-personality",
   "metadata": {},
   "outputs": [
    {
     "name": "stdout",
     "output_type": "stream",
     "text": [
      "Type:  torch.LongTensor\n",
      "Shape:  torch.Size([2, 3])\n",
      "Value:  tensor([[ 3, 12, 21],\n",
      "        [30, 39, 48]])\n"
     ]
    },
    {
     "data": {
      "text/plain": [
       "tensor([[ 3, 12, 21],\n",
       "        [30, 39, 48]])"
      ]
     },
     "execution_count": 40,
     "metadata": {},
     "output_type": "execute_result"
    }
   ],
   "source": [
    "describe(torch.sum(x, dim=-1))"
   ]
  },
  {
   "cell_type": "code",
   "execution_count": 41,
   "id": "lonely-continent",
   "metadata": {},
   "outputs": [
    {
     "name": "stdout",
     "output_type": "stream",
     "text": [
      "Type:  torch.LongTensor\n",
      "Shape:  torch.Size([2, 3])\n",
      "Value:  tensor([[ 9, 12, 15],\n",
      "        [36, 39, 42]])\n"
     ]
    },
    {
     "data": {
      "text/plain": [
       "tensor([[ 9, 12, 15],\n",
       "        [36, 39, 42]])"
      ]
     },
     "execution_count": 41,
     "metadata": {},
     "output_type": "execute_result"
    }
   ],
   "source": [
    "describe(torch.sum(x, dim=1))"
   ]
  },
  {
   "cell_type": "code",
   "execution_count": 43,
   "id": "front-waterproof",
   "metadata": {},
   "outputs": [
    {
     "name": "stdout",
     "output_type": "stream",
     "text": [
      "Type:  torch.LongTensor\n",
      "Shape:  torch.Size([2, 3])\n",
      "Value:  tensor([[ 3, 12, 21],\n",
      "        [30, 39, 48]])\n"
     ]
    },
    {
     "data": {
      "text/plain": [
       "tensor([[ 3, 12, 21],\n",
       "        [30, 39, 48]])"
      ]
     },
     "execution_count": 43,
     "metadata": {},
     "output_type": "execute_result"
    }
   ],
   "source": [
    "describe(torch.sum(x, dim=2))"
   ]
  },
  {
   "cell_type": "code",
   "execution_count": 45,
   "id": "bearing-crossing",
   "metadata": {},
   "outputs": [
    {
     "name": "stdout",
     "output_type": "stream",
     "text": [
      "Type:  torch.LongTensor\n",
      "Shape:  torch.Size([2, 3])\n",
      "Value:  tensor([[ 9, 12, 15],\n",
      "        [36, 39, 42]])\n"
     ]
    },
    {
     "data": {
      "text/plain": [
       "tensor([[ 9, 12, 15],\n",
       "        [36, 39, 42]])"
      ]
     },
     "execution_count": 45,
     "metadata": {},
     "output_type": "execute_result"
    }
   ],
   "source": [
    "describe(torch.sum(x, dim=-2))"
   ]
  },
  {
   "cell_type": "code",
   "execution_count": 47,
   "id": "formed-account",
   "metadata": {},
   "outputs": [
    {
     "name": "stdout",
     "output_type": "stream",
     "text": [
      "Type:  torch.LongTensor\n",
      "Shape:  torch.Size([3, 3])\n",
      "Value:  tensor([[ 9, 11, 13],\n",
      "        [15, 17, 19],\n",
      "        [21, 23, 25]])\n"
     ]
    },
    {
     "data": {
      "text/plain": [
       "tensor([[ 9, 11, 13],\n",
       "        [15, 17, 19],\n",
       "        [21, 23, 25]])"
      ]
     },
     "execution_count": 47,
     "metadata": {},
     "output_type": "execute_result"
    }
   ],
   "source": [
    "describe(torch.sum(x, dim=-3))"
   ]
  },
  {
   "cell_type": "code",
   "execution_count": 48,
   "id": "contained-series",
   "metadata": {},
   "outputs": [
    {
     "name": "stdout",
     "output_type": "stream",
     "text": [
      "Type:  torch.LongTensor\n",
      "Shape:  torch.Size([3, 2, 3])\n",
      "Value:  tensor([[[ 0,  1,  2],\n",
      "         [ 9, 10, 11]],\n",
      "\n",
      "        [[ 3,  4,  5],\n",
      "         [12, 13, 14]],\n",
      "\n",
      "        [[ 6,  7,  8],\n",
      "         [15, 16, 17]]])\n"
     ]
    },
    {
     "data": {
      "text/plain": [
       "tensor([[[ 0,  1,  2],\n",
       "         [ 9, 10, 11]],\n",
       "\n",
       "        [[ 3,  4,  5],\n",
       "         [12, 13, 14]],\n",
       "\n",
       "        [[ 6,  7,  8],\n",
       "         [15, 16, 17]]])"
      ]
     },
     "execution_count": 48,
     "metadata": {},
     "output_type": "execute_result"
    }
   ],
   "source": [
    "describe(torch.transpose(x,0,1))"
   ]
  },
  {
   "cell_type": "markdown",
   "id": "surprising-texture",
   "metadata": {},
   "source": [
    "Indexing slicing and other functionalities."
   ]
  },
  {
   "cell_type": "code",
   "execution_count": 65,
   "id": "processed-compression",
   "metadata": {},
   "outputs": [
    {
     "name": "stdout",
     "output_type": "stream",
     "text": [
      "Type:  torch.LongTensor\n",
      "Shape:  torch.Size([2, 3])\n",
      "Value:  tensor([[0, 1, 2],\n",
      "        [3, 4, 5]])\n"
     ]
    },
    {
     "data": {
      "text/plain": [
       "tensor([[0, 1, 2],\n",
       "        [3, 4, 5]])"
      ]
     },
     "execution_count": 65,
     "metadata": {},
     "output_type": "execute_result"
    }
   ],
   "source": [
    "x = torch.arange(6).view(2,3)\n",
    "\n",
    "describe(x)"
   ]
  },
  {
   "cell_type": "code",
   "execution_count": 53,
   "id": "sporting-drilling",
   "metadata": {},
   "outputs": [
    {
     "name": "stdout",
     "output_type": "stream",
     "text": [
      "Type:  torch.LongTensor\n",
      "Shape:  torch.Size([1, 2])\n",
      "Value:  tensor([[0, 1]])\n"
     ]
    },
    {
     "data": {
      "text/plain": [
       "tensor([[0, 1]])"
      ]
     },
     "execution_count": 53,
     "metadata": {},
     "output_type": "execute_result"
    }
   ],
   "source": [
    "describe(x[:1, :2])"
   ]
  },
  {
   "cell_type": "code",
   "execution_count": 54,
   "id": "current-patrick",
   "metadata": {},
   "outputs": [
    {
     "name": "stdout",
     "output_type": "stream",
     "text": [
      "Type:  torch.LongTensor\n",
      "Shape:  torch.Size([])\n",
      "Value:  tensor(1)\n"
     ]
    },
    {
     "data": {
      "text/plain": [
       "tensor(1)"
      ]
     },
     "execution_count": 54,
     "metadata": {},
     "output_type": "execute_result"
    }
   ],
   "source": [
    "describe(x[0,1])"
   ]
  },
  {
   "cell_type": "code",
   "execution_count": 64,
   "id": "desirable-arctic",
   "metadata": {},
   "outputs": [
    {
     "name": "stdout",
     "output_type": "stream",
     "text": [
      "Type:  torch.LongTensor\n",
      "Shape:  torch.Size([2, 2])\n",
      "Value:  tensor([[0, 2],\n",
      "        [3, 5]])\n"
     ]
    },
    {
     "data": {
      "text/plain": [
       "tensor([[0, 2],\n",
       "        [3, 5]])"
      ]
     },
     "execution_count": 64,
     "metadata": {},
     "output_type": "execute_result"
    }
   ],
   "source": [
    "indices = torch.LongTensor([0,2])\n",
    "indices_non_tensor = [0,2]\n",
    "\n",
    "describe(x.index_select(dim=1, index=indices))"
   ]
  },
  {
   "cell_type": "code",
   "execution_count": 61,
   "id": "reliable-butterfly",
   "metadata": {},
   "outputs": [
    {
     "name": "stdout",
     "output_type": "stream",
     "text": [
      "Type:  torch.LongTensor\n",
      "Shape:  torch.Size([4, 3])\n",
      "Value:  tensor([[0, 1, 2],\n",
      "        [3, 4, 5],\n",
      "        [0, 1, 2],\n",
      "        [3, 4, 5]])\n"
     ]
    },
    {
     "data": {
      "text/plain": [
       "tensor([[0, 1, 2],\n",
       "        [3, 4, 5],\n",
       "        [0, 1, 2],\n",
       "        [3, 4, 5]])"
      ]
     },
     "execution_count": 61,
     "metadata": {},
     "output_type": "execute_result"
    }
   ],
   "source": [
    "describe(torch.cat([x,x],dim=0))"
   ]
  },
  {
   "cell_type": "code",
   "execution_count": 72,
   "id": "intermediate-drink",
   "metadata": {},
   "outputs": [
    {
     "name": "stdout",
     "output_type": "stream",
     "text": [
      "Type:  torch.LongTensor\n",
      "Shape:  torch.Size([2, 2])\n",
      "Value:  tensor([[ 5, 14],\n",
      "        [14, 50]])\n"
     ]
    },
    {
     "data": {
      "text/plain": [
       "tensor([[ 5, 14],\n",
       "        [14, 50]])"
      ]
     },
     "execution_count": 72,
     "metadata": {},
     "output_type": "execute_result"
    }
   ],
   "source": [
    "describe(torch.mm(x,x.transpose(0,1)))"
   ]
  },
  {
   "cell_type": "code",
   "execution_count": null,
   "id": "corporate-alexander",
   "metadata": {},
   "outputs": [],
   "source": []
  }
 ],
 "metadata": {
  "kernelspec": {
   "display_name": "Python 3",
   "language": "python",
   "name": "python3"
  },
  "language_info": {
   "codemirror_mode": {
    "name": "ipython",
    "version": 3
   },
   "file_extension": ".py",
   "mimetype": "text/x-python",
   "name": "python",
   "nbconvert_exporter": "python",
   "pygments_lexer": "ipython3",
   "version": "3.9.5"
  }
 },
 "nbformat": 4,
 "nbformat_minor": 5
}
